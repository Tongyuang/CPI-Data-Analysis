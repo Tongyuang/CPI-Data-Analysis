{
 "metadata": {
  "language_info": {
   "codemirror_mode": {
    "name": "ipython",
    "version": 3
   },
   "file_extension": ".py",
   "mimetype": "text/x-python",
   "name": "python",
   "nbconvert_exporter": "python",
   "pygments_lexer": "ipython3",
   "version": "3.7.10"
  },
  "orig_nbformat": 4,
  "kernelspec": {
   "name": "python3",
   "display_name": "Python 3.7.10 64-bit ('pt': conda)"
  },
  "interpreter": {
   "hash": "36306494da3fce0355b4a0c25bb01d1e3e73de558ce4f34dec1be8bc3c91dc97"
  }
 },
 "nbformat": 4,
 "nbformat_minor": 2,
 "cells": [
  {
   "cell_type": "code",
   "execution_count": 1,
   "metadata": {},
   "outputs": [],
   "source": [
    "import pandas as pd\n",
    "import os\n",
    "\n",
    "benchmark_Data = pd.read_csv('/gxr/siqi/8000w_data_folder/seen_protein_non_structure_benchmark_v2.csv')"
   ]
  },
  {
   "cell_type": "code",
   "execution_count": 4,
   "metadata": {},
   "outputs": [
    {
     "output_type": "execute_result",
     "data": {
      "text/plain": [
       "       CLF_GE_6-5_LABEL  CLF_GE_6_LABEL  CLF_GE_7_LABEL  \\\n",
       "0                     0               0               0   \n",
       "1                     0               0               0   \n",
       "2                     0               0               0   \n",
       "3                     0               0               0   \n",
       "4                     0               0               0   \n",
       "...                 ...             ...             ...   \n",
       "18065                 0               0               0   \n",
       "18066                 0               0               0   \n",
       "18067                 0               0               0   \n",
       "18068                 0               0               0   \n",
       "18069                 0               0               0   \n",
       "\n",
       "       COMPOUND_RANDOM_10_CLASS  \\\n",
       "0                           NaN   \n",
       "1                           NaN   \n",
       "2                           NaN   \n",
       "3                           NaN   \n",
       "4                           NaN   \n",
       "...                         ...   \n",
       "18065                       5.0   \n",
       "18066                       3.0   \n",
       "18067                       3.0   \n",
       "18068                       9.0   \n",
       "18069                       9.0   \n",
       "\n",
       "                                         COMPOUND_SMILES  \\\n",
       "0             O[C@@H](CN1CCc2c(C1)cccc2)CNC(=O)Nc1ccccc1   \n",
       "1              O[C@H](CN1CCc2c(C1)cccc2)CNC(=O)Oc1ccccc1   \n",
       "2        OC(CN1CCc2c(C1)cccc2)CNC(=O)c1ccccc1NS(=O)(=O)C   \n",
       "3            OCCCNc1cccc(c1)C(=O)NCC(CN1CCc2c(C1)cccc2)O   \n",
       "4         OC(CN1CCc2c(C1)cccc2)CNC(=O)c1ccccc1S(=O)(=O)N   \n",
       "...                                                  ...   \n",
       "18065                   Nc1ccc(c(c1)S(=O)(=O)O)Nc1ccccc1   \n",
       "18066  ClCCCN1CCc2c1ccc(c2)/C=C/1\\C(=O)NC(=S)N(C1=O)C...   \n",
       "18067   Sc1nc(O)c(c(n1)O)C=c1cc(n(c1=C)c1ccc2c(c1)OCO2)C   \n",
       "18068              C[n+]1ccn(c1)C(=O)N(c1ccccc1)c1ccccc1   \n",
       "18069                       O=C1CC(=Nc2ccccn2)CC(C1)(C)C   \n",
       "\n",
       "                                   CPI_ID                    INCHI_KEY  \\\n",
       "0      JQEBBTKFWRCBRM-GOSISDBHSA-N_O14744  JQEBBTKFWRCBRM-GOSISDBHSA-N   \n",
       "1      ISPNKABZQKKZLU-KRWDZBQOSA-N_O14744  ISPNKABZQKKZLU-KRWDZBQOSA-N   \n",
       "2      ITKVBCUHRRICIL-UHFFFAOYSA-N_O14744  ITKVBCUHRRICIL-UHFFFAOYSA-N   \n",
       "3      VSASZUNSXBCSFN-UHFFFAOYSA-N_O14744  VSASZUNSXBCSFN-UHFFFAOYSA-N   \n",
       "4      LMJASDFXANKVNH-UHFFFAOYSA-N_O14744  LMJASDFXANKVNH-UHFFFAOYSA-N   \n",
       "...                                   ...                          ...   \n",
       "18065                                 NaN                          NaN   \n",
       "18066                                 NaN                          NaN   \n",
       "18067                                 NaN                          NaN   \n",
       "18068                                 NaN                          NaN   \n",
       "18069                                 NaN                          NaN   \n",
       "\n",
       "       PROTEIN_RANDOM_10_CLASS  \\\n",
       "0                          NaN   \n",
       "1                          NaN   \n",
       "2                          NaN   \n",
       "3                          NaN   \n",
       "4                          NaN   \n",
       "...                        ...   \n",
       "18065                      3.0   \n",
       "18066                      3.0   \n",
       "18067                      3.0   \n",
       "18068                      3.0   \n",
       "18069                      3.0   \n",
       "\n",
       "                                        PROTEIN_SEQUENCE  REG_LABEL  \\\n",
       "0      MAAMAVGGAGGSRVSSGRDLNCVPEIADTLGAVAKQGFDFLCMPVF...    5.25960   \n",
       "1      MAAMAVGGAGGSRVSSGRDLNCVPEIADTLGAVAKQGFDFLCMPVF...    5.25960   \n",
       "2      MAAMAVGGAGGSRVSSGRDLNCVPEIADTLGAVAKQGFDFLCMPVF...    5.25960   \n",
       "3      MAAMAVGGAGGSRVSSGRDLNCVPEIADTLGAVAKQGFDFLCMPVF...    5.25960   \n",
       "4      MAAMAVGGAGGSRVSSGRDLNCVPEIADTLGAVAKQGFDFLCMPVF...    5.25960   \n",
       "...                                                  ...        ...   \n",
       "18065  MHLVAGDSPGSGPHLPATAFIIPASSATLGLPSSALDVSCFPREPI...    5.57383   \n",
       "18066  MHLVAGDSPGSGPHLPATAFIIPASSATLGLPSSALDVSCFPREPI...    5.37382   \n",
       "18067  MHLVAGDSPGSGPHLPATAFIIPASSATLGLPSSALDVSCFPREPI...    4.67382   \n",
       "18068  MHLVAGDSPGSGPHLPATAFIIPASSATLGLPSSALDVSCFPREPI...    5.90001   \n",
       "18069  MHLVAGDSPGSGPHLPATAFIIPASSATLGLPSSALDVSCFPREPI...    5.70000   \n",
       "\n",
       "            SOURCE                                                UID  \\\n",
       "0              NaN                                                NaN   \n",
       "1              NaN                                                NaN   \n",
       "2              NaN                                                NaN   \n",
       "3              NaN                                                NaN   \n",
       "4              NaN                                                NaN   \n",
       "...            ...                                                ...   \n",
       "18065  ExcapeML_RM            Q9Y468_Nc1ccc(c(c1)S(=O)(=O)O)Nc1ccccc1   \n",
       "18066  ExcapeML_RM  Q9Y468_ClCCCN1CCc2c1ccc(c2)/C=C/1\\C(=O)NC(=S)N...   \n",
       "18067  ExcapeML_RM  Q9Y468_Sc1nc(O)c(c(n1)O)C=c1cc(n(c1=C)c1ccc2c(...   \n",
       "18068  ExcapeML_RM       Q9Y468_C[n+]1ccn(c1)C(=O)N(c1ccccc1)c1ccccc1   \n",
       "18069  ExcapeML_RM                Q9Y468_O=C1CC(=Nc2ccccn2)CC(C1)(C)C   \n",
       "\n",
       "      UNIPROT_ID  \n",
       "0         O14744  \n",
       "1         O14744  \n",
       "2         O14744  \n",
       "3         O14744  \n",
       "4         O14744  \n",
       "...          ...  \n",
       "18065     Q9Y468  \n",
       "18066     Q9Y468  \n",
       "18067     Q9Y468  \n",
       "18068     Q9Y468  \n",
       "18069     Q9Y468  \n",
       "\n",
       "[18070 rows x 13 columns]"
      ],
      "text/html": "<div>\n<style scoped>\n    .dataframe tbody tr th:only-of-type {\n        vertical-align: middle;\n    }\n\n    .dataframe tbody tr th {\n        vertical-align: top;\n    }\n\n    .dataframe thead th {\n        text-align: right;\n    }\n</style>\n<table border=\"1\" class=\"dataframe\">\n  <thead>\n    <tr style=\"text-align: right;\">\n      <th></th>\n      <th>CLF_GE_6-5_LABEL</th>\n      <th>CLF_GE_6_LABEL</th>\n      <th>CLF_GE_7_LABEL</th>\n      <th>COMPOUND_RANDOM_10_CLASS</th>\n      <th>COMPOUND_SMILES</th>\n      <th>CPI_ID</th>\n      <th>INCHI_KEY</th>\n      <th>PROTEIN_RANDOM_10_CLASS</th>\n      <th>PROTEIN_SEQUENCE</th>\n      <th>REG_LABEL</th>\n      <th>SOURCE</th>\n      <th>UID</th>\n      <th>UNIPROT_ID</th>\n    </tr>\n  </thead>\n  <tbody>\n    <tr>\n      <th>0</th>\n      <td>0</td>\n      <td>0</td>\n      <td>0</td>\n      <td>NaN</td>\n      <td>O[C@@H](CN1CCc2c(C1)cccc2)CNC(=O)Nc1ccccc1</td>\n      <td>JQEBBTKFWRCBRM-GOSISDBHSA-N_O14744</td>\n      <td>JQEBBTKFWRCBRM-GOSISDBHSA-N</td>\n      <td>NaN</td>\n      <td>MAAMAVGGAGGSRVSSGRDLNCVPEIADTLGAVAKQGFDFLCMPVF...</td>\n      <td>5.25960</td>\n      <td>NaN</td>\n      <td>NaN</td>\n      <td>O14744</td>\n    </tr>\n    <tr>\n      <th>1</th>\n      <td>0</td>\n      <td>0</td>\n      <td>0</td>\n      <td>NaN</td>\n      <td>O[C@H](CN1CCc2c(C1)cccc2)CNC(=O)Oc1ccccc1</td>\n      <td>ISPNKABZQKKZLU-KRWDZBQOSA-N_O14744</td>\n      <td>ISPNKABZQKKZLU-KRWDZBQOSA-N</td>\n      <td>NaN</td>\n      <td>MAAMAVGGAGGSRVSSGRDLNCVPEIADTLGAVAKQGFDFLCMPVF...</td>\n      <td>5.25960</td>\n      <td>NaN</td>\n      <td>NaN</td>\n      <td>O14744</td>\n    </tr>\n    <tr>\n      <th>2</th>\n      <td>0</td>\n      <td>0</td>\n      <td>0</td>\n      <td>NaN</td>\n      <td>OC(CN1CCc2c(C1)cccc2)CNC(=O)c1ccccc1NS(=O)(=O)C</td>\n      <td>ITKVBCUHRRICIL-UHFFFAOYSA-N_O14744</td>\n      <td>ITKVBCUHRRICIL-UHFFFAOYSA-N</td>\n      <td>NaN</td>\n      <td>MAAMAVGGAGGSRVSSGRDLNCVPEIADTLGAVAKQGFDFLCMPVF...</td>\n      <td>5.25960</td>\n      <td>NaN</td>\n      <td>NaN</td>\n      <td>O14744</td>\n    </tr>\n    <tr>\n      <th>3</th>\n      <td>0</td>\n      <td>0</td>\n      <td>0</td>\n      <td>NaN</td>\n      <td>OCCCNc1cccc(c1)C(=O)NCC(CN1CCc2c(C1)cccc2)O</td>\n      <td>VSASZUNSXBCSFN-UHFFFAOYSA-N_O14744</td>\n      <td>VSASZUNSXBCSFN-UHFFFAOYSA-N</td>\n      <td>NaN</td>\n      <td>MAAMAVGGAGGSRVSSGRDLNCVPEIADTLGAVAKQGFDFLCMPVF...</td>\n      <td>5.25960</td>\n      <td>NaN</td>\n      <td>NaN</td>\n      <td>O14744</td>\n    </tr>\n    <tr>\n      <th>4</th>\n      <td>0</td>\n      <td>0</td>\n      <td>0</td>\n      <td>NaN</td>\n      <td>OC(CN1CCc2c(C1)cccc2)CNC(=O)c1ccccc1S(=O)(=O)N</td>\n      <td>LMJASDFXANKVNH-UHFFFAOYSA-N_O14744</td>\n      <td>LMJASDFXANKVNH-UHFFFAOYSA-N</td>\n      <td>NaN</td>\n      <td>MAAMAVGGAGGSRVSSGRDLNCVPEIADTLGAVAKQGFDFLCMPVF...</td>\n      <td>5.25960</td>\n      <td>NaN</td>\n      <td>NaN</td>\n      <td>O14744</td>\n    </tr>\n    <tr>\n      <th>...</th>\n      <td>...</td>\n      <td>...</td>\n      <td>...</td>\n      <td>...</td>\n      <td>...</td>\n      <td>...</td>\n      <td>...</td>\n      <td>...</td>\n      <td>...</td>\n      <td>...</td>\n      <td>...</td>\n      <td>...</td>\n      <td>...</td>\n    </tr>\n    <tr>\n      <th>18065</th>\n      <td>0</td>\n      <td>0</td>\n      <td>0</td>\n      <td>5.0</td>\n      <td>Nc1ccc(c(c1)S(=O)(=O)O)Nc1ccccc1</td>\n      <td>NaN</td>\n      <td>NaN</td>\n      <td>3.0</td>\n      <td>MHLVAGDSPGSGPHLPATAFIIPASSATLGLPSSALDVSCFPREPI...</td>\n      <td>5.57383</td>\n      <td>ExcapeML_RM</td>\n      <td>Q9Y468_Nc1ccc(c(c1)S(=O)(=O)O)Nc1ccccc1</td>\n      <td>Q9Y468</td>\n    </tr>\n    <tr>\n      <th>18066</th>\n      <td>0</td>\n      <td>0</td>\n      <td>0</td>\n      <td>3.0</td>\n      <td>ClCCCN1CCc2c1ccc(c2)/C=C/1\\C(=O)NC(=S)N(C1=O)C...</td>\n      <td>NaN</td>\n      <td>NaN</td>\n      <td>3.0</td>\n      <td>MHLVAGDSPGSGPHLPATAFIIPASSATLGLPSSALDVSCFPREPI...</td>\n      <td>5.37382</td>\n      <td>ExcapeML_RM</td>\n      <td>Q9Y468_ClCCCN1CCc2c1ccc(c2)/C=C/1\\C(=O)NC(=S)N...</td>\n      <td>Q9Y468</td>\n    </tr>\n    <tr>\n      <th>18067</th>\n      <td>0</td>\n      <td>0</td>\n      <td>0</td>\n      <td>3.0</td>\n      <td>Sc1nc(O)c(c(n1)O)C=c1cc(n(c1=C)c1ccc2c(c1)OCO2)C</td>\n      <td>NaN</td>\n      <td>NaN</td>\n      <td>3.0</td>\n      <td>MHLVAGDSPGSGPHLPATAFIIPASSATLGLPSSALDVSCFPREPI...</td>\n      <td>4.67382</td>\n      <td>ExcapeML_RM</td>\n      <td>Q9Y468_Sc1nc(O)c(c(n1)O)C=c1cc(n(c1=C)c1ccc2c(...</td>\n      <td>Q9Y468</td>\n    </tr>\n    <tr>\n      <th>18068</th>\n      <td>0</td>\n      <td>0</td>\n      <td>0</td>\n      <td>9.0</td>\n      <td>C[n+]1ccn(c1)C(=O)N(c1ccccc1)c1ccccc1</td>\n      <td>NaN</td>\n      <td>NaN</td>\n      <td>3.0</td>\n      <td>MHLVAGDSPGSGPHLPATAFIIPASSATLGLPSSALDVSCFPREPI...</td>\n      <td>5.90001</td>\n      <td>ExcapeML_RM</td>\n      <td>Q9Y468_C[n+]1ccn(c1)C(=O)N(c1ccccc1)c1ccccc1</td>\n      <td>Q9Y468</td>\n    </tr>\n    <tr>\n      <th>18069</th>\n      <td>0</td>\n      <td>0</td>\n      <td>0</td>\n      <td>9.0</td>\n      <td>O=C1CC(=Nc2ccccn2)CC(C1)(C)C</td>\n      <td>NaN</td>\n      <td>NaN</td>\n      <td>3.0</td>\n      <td>MHLVAGDSPGSGPHLPATAFIIPASSATLGLPSSALDVSCFPREPI...</td>\n      <td>5.70000</td>\n      <td>ExcapeML_RM</td>\n      <td>Q9Y468_O=C1CC(=Nc2ccccn2)CC(C1)(C)C</td>\n      <td>Q9Y468</td>\n    </tr>\n  </tbody>\n</table>\n<p>18070 rows × 13 columns</p>\n</div>"
     },
     "metadata": {},
     "execution_count": 4
    }
   ],
   "source": [
    "benchmark_Data"
   ]
  },
  {
   "cell_type": "code",
   "execution_count": 5,
   "metadata": {},
   "outputs": [
    {
     "output_type": "execute_result",
     "data": {
      "text/plain": [
       "Index(['CLF_GE_6-5_LABEL', 'CLF_GE_6_LABEL', 'CLF_GE_7_LABEL',\n",
       "       'COMPOUND_RANDOM_10_CLASS', 'COMPOUND_SMILES', 'CPI_ID', 'INCHI_KEY',\n",
       "       'PROTEIN_RANDOM_10_CLASS', 'PROTEIN_SEQUENCE', 'REG_LABEL', 'SOURCE',\n",
       "       'UID', 'UNIPROT_ID'],\n",
       "      dtype='object')"
      ]
     },
     "metadata": {},
     "execution_count": 5
    }
   ],
   "source": [
    "benchmark_Data.columns"
   ]
  },
  {
   "cell_type": "code",
   "execution_count": 2,
   "metadata": {},
   "outputs": [],
   "source": [
    "d1 = pd.read_csv('/gxr/tongyuang/data/CPI/GLX4.1.0/filtered_data/Glx_Pubchem_Uniprot_Classification_Data_raw_from_bm.csv')"
   ]
  },
  {
   "cell_type": "code",
   "execution_count": 3,
   "metadata": {},
   "outputs": [],
   "source": [
    "d2 = pd.read_csv('/gxr/tongyuang/data/CPI/GLX4.1.0/filtered_data/Glx_Pubchem_Uniprot_Classification_Data_rmv_dup_from_bm.csv')"
   ]
  },
  {
   "cell_type": "code",
   "execution_count": 4,
   "metadata": {},
   "outputs": [
    {
     "output_type": "execute_result",
     "data": {
      "text/plain": [
       "12364592"
      ]
     },
     "metadata": {},
     "execution_count": 4
    }
   ],
   "source": [
    "len(d1)"
   ]
  },
  {
   "cell_type": "code",
   "execution_count": 5,
   "metadata": {},
   "outputs": [
    {
     "output_type": "execute_result",
     "data": {
      "text/plain": [
       "Index(['UID', 'UNIPROT_ID', 'COMPOUND_SMILES', 'PROTEIN_SEQUENCE', 'CLF_LABEL',\n",
       "       'Data_Source'],\n",
       "      dtype='object')"
      ]
     },
     "metadata": {},
     "execution_count": 5
    }
   ],
   "source": [
    "d1.columns"
   ]
  },
  {
   "cell_type": "code",
   "execution_count": 7,
   "metadata": {},
   "outputs": [
    {
     "output_type": "execute_result",
     "data": {
      "text/plain": [
       "342817.0"
      ]
     },
     "metadata": {},
     "execution_count": 7
    }
   ],
   "source": [
    "import numpy as np\n",
    "np.sum(d1['CLF_LABEL'].values)"
   ]
  },
  {
   "cell_type": "code",
   "execution_count": 9,
   "metadata": {},
   "outputs": [
    {
     "output_type": "execute_result",
     "data": {
      "text/plain": [
       "336510.0"
      ]
     },
     "metadata": {},
     "execution_count": 9
    }
   ],
   "source": [
    "np.sum(d2['CLF_LABEL'].values)\n"
   ]
  },
  {
   "cell_type": "code",
   "execution_count": 11,
   "metadata": {},
   "outputs": [
    {
     "output_type": "execute_result",
     "data": {
      "text/plain": [
       "'CCCCCN=c1ccn(c2c1cccc2)Cc1ccccc1'"
      ]
     },
     "metadata": {},
     "execution_count": 11
    }
   ],
   "source": [
    "d2.iloc[0]['COMPOUND_SMILES']"
   ]
  },
  {
   "cell_type": "code",
   "execution_count": null,
   "metadata": {},
   "outputs": [],
   "source": []
  }
 ]
}