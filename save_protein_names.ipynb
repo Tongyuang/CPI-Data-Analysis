{
 "cells": [
  {
   "cell_type": "code",
   "execution_count": 19,
   "metadata": {},
   "outputs": [],
   "source": [
    "import dask.dataframe as dd\n",
    "import numpy as np"
   ]
  },
  {
   "cell_type": "code",
   "execution_count": 2,
   "metadata": {},
   "outputs": [],
   "source": [
    "data_path = '/gxr/yize/data/CPI/GLX4.1.0/CLF/Glx_Pubchem_Uniprot_Classification_Data_79980610.csv'\n",
    "df = dd.read_csv(data_path)"
   ]
  },
  {
   "cell_type": "code",
   "execution_count": 3,
   "metadata": {},
   "outputs": [
    {
     "data": {
      "text/html": [
       "<div>\n",
       "<style scoped>\n",
       "    .dataframe tbody tr th:only-of-type {\n",
       "        vertical-align: middle;\n",
       "    }\n",
       "\n",
       "    .dataframe tbody tr th {\n",
       "        vertical-align: top;\n",
       "    }\n",
       "\n",
       "    .dataframe thead th {\n",
       "        text-align: right;\n",
       "    }\n",
       "</style>\n",
       "<table border=\"1\" class=\"dataframe\">\n",
       "  <thead>\n",
       "    <tr style=\"text-align: right;\">\n",
       "      <th></th>\n",
       "      <th>UID</th>\n",
       "      <th>UNIPROT_ID</th>\n",
       "      <th>COMPOUND_SMILES</th>\n",
       "      <th>PROTEIN_SEQUENCE</th>\n",
       "      <th>CLF_LABEL</th>\n",
       "      <th>Data_Source</th>\n",
       "    </tr>\n",
       "  </thead>\n",
       "  <tbody>\n",
       "    <tr>\n",
       "      <th>0</th>\n",
       "      <td>A0A060INS8_Brc1ccc(cc1)/C=C/C(=N\\Nc1ccccc1)/c1...</td>\n",
       "      <td>A0A060INS8</td>\n",
       "      <td>Brc1ccc(cc1)/C=C/C(=N\\Nc1ccccc1)/c1ccccc1</td>\n",
       "      <td>MWAVLPLLCAGAWLLGAPACGAAELAVNSLEKFHFQSWMVQHQKKY...</td>\n",
       "      <td>0.0</td>\n",
       "      <td>glx4.1.0</td>\n",
       "    </tr>\n",
       "    <tr>\n",
       "      <th>1</th>\n",
       "      <td>A0A060INS8_Brc1ccc(cc1)C1CC(=NN1C(=O)C)c1ccccc1</td>\n",
       "      <td>A0A060INS8</td>\n",
       "      <td>Brc1ccc(cc1)C1CC(=NN1C(=O)C)c1ccccc1</td>\n",
       "      <td>MWAVLPLLCAGAWLLGAPACGAAELAVNSLEKFHFQSWMVQHQKKY...</td>\n",
       "      <td>0.0</td>\n",
       "      <td>glx4.1.0</td>\n",
       "    </tr>\n",
       "    <tr>\n",
       "      <th>2</th>\n",
       "      <td>A0A060INS8_Brc1ccc(cc1)C1CC(=NN1c1ccccc1)c1ccccc1</td>\n",
       "      <td>A0A060INS8</td>\n",
       "      <td>Brc1ccc(cc1)C1CC(=NN1c1ccccc1)c1ccccc1</td>\n",
       "      <td>MWAVLPLLCAGAWLLGAPACGAAELAVNSLEKFHFQSWMVQHQKKY...</td>\n",
       "      <td>0.0</td>\n",
       "      <td>glx4.1.0</td>\n",
       "    </tr>\n",
       "    <tr>\n",
       "      <th>3</th>\n",
       "      <td>A0A060INS8_Brc1ccc(cc1)C1NN=C(C1)c1ccccc1</td>\n",
       "      <td>A0A060INS8</td>\n",
       "      <td>Brc1ccc(cc1)C1NN=C(C1)c1ccccc1</td>\n",
       "      <td>MWAVLPLLCAGAWLLGAPACGAAELAVNSLEKFHFQSWMVQHQKKY...</td>\n",
       "      <td>0.0</td>\n",
       "      <td>glx4.1.0</td>\n",
       "    </tr>\n",
       "    <tr>\n",
       "      <th>4</th>\n",
       "      <td>A0A060INS8_Brc1ccc(cc1)c1cc(nn1c1ccccc1)c1ccccc1</td>\n",
       "      <td>A0A060INS8</td>\n",
       "      <td>Brc1ccc(cc1)c1cc(nn1c1ccccc1)c1ccccc1</td>\n",
       "      <td>MWAVLPLLCAGAWLLGAPACGAAELAVNSLEKFHFQSWMVQHQKKY...</td>\n",
       "      <td>0.0</td>\n",
       "      <td>glx4.1.0</td>\n",
       "    </tr>\n",
       "  </tbody>\n",
       "</table>\n",
       "</div>"
      ],
      "text/plain": [
       "                                                 UID  UNIPROT_ID  \\\n",
       "0  A0A060INS8_Brc1ccc(cc1)/C=C/C(=N\\Nc1ccccc1)/c1...  A0A060INS8   \n",
       "1    A0A060INS8_Brc1ccc(cc1)C1CC(=NN1C(=O)C)c1ccccc1  A0A060INS8   \n",
       "2  A0A060INS8_Brc1ccc(cc1)C1CC(=NN1c1ccccc1)c1ccccc1  A0A060INS8   \n",
       "3          A0A060INS8_Brc1ccc(cc1)C1NN=C(C1)c1ccccc1  A0A060INS8   \n",
       "4   A0A060INS8_Brc1ccc(cc1)c1cc(nn1c1ccccc1)c1ccccc1  A0A060INS8   \n",
       "\n",
       "                             COMPOUND_SMILES  \\\n",
       "0  Brc1ccc(cc1)/C=C/C(=N\\Nc1ccccc1)/c1ccccc1   \n",
       "1       Brc1ccc(cc1)C1CC(=NN1C(=O)C)c1ccccc1   \n",
       "2     Brc1ccc(cc1)C1CC(=NN1c1ccccc1)c1ccccc1   \n",
       "3             Brc1ccc(cc1)C1NN=C(C1)c1ccccc1   \n",
       "4      Brc1ccc(cc1)c1cc(nn1c1ccccc1)c1ccccc1   \n",
       "\n",
       "                                    PROTEIN_SEQUENCE  CLF_LABEL Data_Source  \n",
       "0  MWAVLPLLCAGAWLLGAPACGAAELAVNSLEKFHFQSWMVQHQKKY...        0.0    glx4.1.0  \n",
       "1  MWAVLPLLCAGAWLLGAPACGAAELAVNSLEKFHFQSWMVQHQKKY...        0.0    glx4.1.0  \n",
       "2  MWAVLPLLCAGAWLLGAPACGAAELAVNSLEKFHFQSWMVQHQKKY...        0.0    glx4.1.0  \n",
       "3  MWAVLPLLCAGAWLLGAPACGAAELAVNSLEKFHFQSWMVQHQKKY...        0.0    glx4.1.0  \n",
       "4  MWAVLPLLCAGAWLLGAPACGAAELAVNSLEKFHFQSWMVQHQKKY...        0.0    glx4.1.0  "
      ]
     },
     "execution_count": 3,
     "metadata": {},
     "output_type": "execute_result"
    }
   ],
   "source": [
    "#df.head()"
   ]
  },
  {
   "cell_type": "code",
   "execution_count": null,
   "metadata": {},
   "outputs": [],
   "source": [
    "#df['PROTEIN_SEQUENCE']"
   ]
  },
  {
   "cell_type": "code",
   "execution_count": 4,
   "metadata": {},
   "outputs": [],
   "source": [
    "data_path = '/gxr/yize/data/CPI/GLX4.1.0/ALL/Glx4.1.0_ALL_Kd.csv'\n",
    "df = dd.read_csv(data_path)"
   ]
  },
  {
   "cell_type": "code",
   "execution_count": 26,
   "metadata": {},
   "outputs": [],
   "source": [
    "a = np.asarray(list(set(df['PROTEIN_SEQUENCE'].compute().values)))"
   ]
  },
  {
   "cell_type": "code",
   "execution_count": 27,
   "metadata": {},
   "outputs": [],
   "source": [
    "np.save('test.npy',a)"
   ]
  },
  {
   "cell_type": "code",
   "execution_count": 28,
   "metadata": {},
   "outputs": [],
   "source": [
    "b = np.load('test.npy',allow_pickle=True)"
   ]
  },
  {
   "cell_type": "code",
   "execution_count": 31,
   "metadata": {},
   "outputs": [
    {
     "data": {
      "text/plain": [
       "'MAQWNQLQQLDTRYLEQLHQLYSDSFPMELRQFLAPWIESQDWAYAASKESHATLVFHNLLGEIDQQYSRFLQESNVLYQHNLRRIKQFLQSRYLEKPMEIARIVARCLWEESRLLQTAATAAQQGGQANHPTAAVVTEKQQMLEQHLQDVRKRVQDLEQKMKVVENLQDDFDFNYKTLKSQGDMQDLNGNNQSVTRQKMQQLEQMLTALDQMRRSIVSELAGLLSAMEYVQKTLTDEELADWKRRQQIACIGGPPNICLDRLENWITSLAESQLQTRQQIKKLEELQQKVSYKGDPIVQHRPMLEERIVELFRNLMKSAFVVERQPCMPMHPDRPLVIKTGVQFTTKVRLLVKFPELNYQLKIKVCIDKDSGDVAALRGSRKFNILGTNTKVMNMEESNNGSLSAEFKHLTLREQRCGNGGRANCDASLIVTEELHLITFETEVYHQGLKIDLETHSLPVVVISNICQMPNAWASILWYNMLTNNPKNVNFFTKPPIGTWDQVAEVLSWQFSSTTKRGLSIEQLTTLAEKLLGPGVNYSGCQITWAKFCKENMAGKGFSFWVWLDNIIDLVKKYILALWNEGYIMGFISKERERAILSTKPPGTFLLRFSESSKEGGVTFTWVEKDISGKTQIQSVEPYTKQQLNNMSFAEIIMGYKIMDATNILVSPLVYLYPDIPKEEAFGKYCRPESQEHPEADPGSAAPYLKTKFICVTPTTCSNTIDLPMSPRTLDSLMQFGNNGEGAEPSAGGQFESLTFDMDLTSECATSPM'"
      ]
     },
     "execution_count": 31,
     "metadata": {},
     "output_type": "execute_result"
    }
   ],
   "source": [
    "b[0]"
   ]
  },
  {
   "cell_type": "code",
   "execution_count": 32,
   "metadata": {},
   "outputs": [],
   "source": [
    "data_path = '/gxr/yize/data/CPI/GLX4.1.0/CLF/Glx_Pubchem_Uniprot_Classification_Data_79980610.csv'\n",
    "df = dd.read_csv(data_path)\n",
    "protein_array = np.asarray(list(set(df['PROTEIN_SEQUENCE'].compute().values)))\n",
    "np.save('protein_array.npy',protein_array)"
   ]
  },
  {
   "cell_type": "code",
   "execution_count": null,
   "metadata": {},
   "outputs": [],
   "source": []
  }
 ],
 "metadata": {
  "kernelspec": {
   "display_name": "Python 3",
   "language": "python",
   "name": "python3"
  },
  "language_info": {
   "codemirror_mode": {
    "name": "ipython",
    "version": 3
   },
   "file_extension": ".py",
   "mimetype": "text/x-python",
   "name": "python",
   "nbconvert_exporter": "python",
   "pygments_lexer": "ipython3",
   "version": "3.8.5"
  }
 },
 "nbformat": 4,
 "nbformat_minor": 4
}
