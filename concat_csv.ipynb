{
 "metadata": {
  "language_info": {
   "codemirror_mode": {
    "name": "ipython",
    "version": 3
   },
   "file_extension": ".py",
   "mimetype": "text/x-python",
   "name": "python",
   "nbconvert_exporter": "python",
   "pygments_lexer": "ipython3",
   "version": "3.7.10"
  },
  "orig_nbformat": 4,
  "kernelspec": {
   "name": "python3",
   "display_name": "Python 3.7.10 64-bit ('pt': conda)"
  },
  "interpreter": {
   "hash": "36306494da3fce0355b4a0c25bb01d1e3e73de558ce4f34dec1be8bc3c91dc97"
  }
 },
 "nbformat": 4,
 "nbformat_minor": 2,
 "cells": [
  {
   "cell_type": "code",
   "execution_count": 10,
   "metadata": {},
   "outputs": [],
   "source": [
    "import pandas as pd\n",
    "import numpy as np\n",
    "import os\n",
    "COL_NAMES=['UID','UNIPROT_ID','COMPOUND_SMILES','PROTEIN_SEQUENCE','CLF_LABEL','Data_Source']\n",
    "SUBDF_ROOT = '/gxr/tongyuang/data/CPI/GLX4.1.0/filted/'\n",
    "OUTPUT_ROOT= '/gxr/tongyuang/data/CPI/GLX4.1.0/filtered_data/'\n"
   ]
  },
  {
   "cell_type": "code",
   "execution_count": 6,
   "metadata": {},
   "outputs": [],
   "source": [
    "'''\n",
    "output_df = pd.DataFrame(columns=COL_NAMES)\n",
    "output_name = 'Glx_Pubchem_Uniprot_Classification_Data_DROP_1_7.csv'\n",
    "output_df.to_csv(OUTPUT_ROOT+output_name,index=0)\n",
    "'''\n",
    "output_df=pd.read_csv(OUTPUT_ROOT+'Glx_Pubchem_Uniprot_Classification_Data_DROP_1_7_rmv_dup.csv')"
   ]
  },
  {
   "cell_type": "code",
   "execution_count": 54,
   "metadata": {},
   "outputs": [
    {
     "output_type": "stream",
     "name": "stdout",
     "text": [
      "Index(['UID', 'UNIPROT_ID', 'COMPOUND_SMILES', 'PROTEIN_SEQUENCE', 'CLF_LABEL',\n       'Data_Source'],\n      dtype='object')\n"
     ]
    }
   ],
   "source": [
    "for subdf_name in os.listdir(SUBDF_ROOT):\n",
    "    subdf = pd.read_csv(SUBDF_ROOT+subdf_name)\n",
    "    subdf.drop(['Unnamed: 0','Unnamed: 0.1'],axis=1,inplace=True)\n",
    "    #print(subdf.columns)\n",
    "    output_df = output_df.append(subdf,ignore_index=True)\n",
    "    break"
   ]
  },
  {
   "cell_type": "code",
   "execution_count": 49,
   "metadata": {},
   "outputs": [],
   "source": [
    "benchmark_df = pd.read_csv('/gxr/siqi/8000w_data_folder/seen_protein_non_structure_benchmark_v2.csv')"
   ]
  },
  {
   "cell_type": "code",
   "execution_count": 50,
   "metadata": {},
   "outputs": [
    {
     "output_type": "execute_result",
     "data": {
      "text/plain": [
       "(18070, 13)"
      ]
     },
     "metadata": {},
     "execution_count": 50
    }
   ],
   "source": [
    "benchmark_df.shape"
   ]
  },
  {
   "cell_type": "code",
   "execution_count": 47,
   "metadata": {},
   "outputs": [
    {
     "output_type": "execute_result",
     "data": {
      "text/plain": [
       "                                                     UID UNIPROT_ID  \\\n",
       "0      P01101_COc1cc(/C=C/C(=O)NCCc2c[nH]c3c2cc(O)cc3...     P01101   \n",
       "1      Q13822_BrC1=CC2C(=C(C1O)Br)Oc1c(C2c2ccccc2C(=O...     Q13822   \n",
       "2             Q13822_CCCCCCC(=O)Nc1ccc(cc1)C(P(=O)(O)O)F     Q13822   \n",
       "3             Q13822_CCCCCCC(=O)Nc1ccc(cc1)C(P(=O)(O)O)O     Q13822   \n",
       "4                Q13822_CCCCCCC(=O)Nc1ccc(cc1)CP(=O)(O)O     Q13822   \n",
       "...                                                  ...        ...   \n",
       "39299  Q96PN6_C[C@H]1O[C@H](C[C@@H]1OP(=O)(OP(=O)(OP(...     Q96PN6   \n",
       "39300  Q96PN6_O=C1CC[C@]2(C(=C1)CC[C@@H]1[C@@H]2CC[C@...     Q96PN6   \n",
       "39301  Q96PN6_OC(=O)c1cc2c(cc1S(=O)(=O)O)C1C(C3C2C2(C...     Q96PN6   \n",
       "39302  Q96PN6_O[C@H]1CC[C@@H]2[C@]1(C)CC[C@H]1[C@H]2C...     Q96PN6   \n",
       "39303  Q96PN6_C[C@H]1O[C@H](C[C@@H]1OP(=O)(OP(=O)(OP(...     Q96PN6   \n",
       "\n",
       "                                         COMPOUND_SMILES  \\\n",
       "0          COc1cc(/C=C/C(=O)NCCc2c[nH]c3c2cc(O)cc3)ccc1O   \n",
       "1      BrC1=CC2C(=C(C1O)Br)Oc1c(C2c2ccccc2C(=O)O)cc(c...   \n",
       "2                    CCCCCCC(=O)Nc1ccc(cc1)C(P(=O)(O)O)F   \n",
       "3                    CCCCCCC(=O)Nc1ccc(cc1)C(P(=O)(O)O)O   \n",
       "4                       CCCCCCC(=O)Nc1ccc(cc1)CP(=O)(O)O   \n",
       "...                                                  ...   \n",
       "39299  C[C@H]1O[C@H](C[C@@H]1OP(=O)(OP(=O)(OP(=O)(O)O...   \n",
       "39300  O=C1CC[C@]2(C(=C1)CC[C@@H]1[C@@H]2CC[C@]2([C@H...   \n",
       "39301  OC(=O)c1cc2c(cc1S(=O)(=O)O)C1C(C3C2C2(Cl)C(=C(...   \n",
       "39302  O[C@H]1CC[C@@H]2[C@]1(C)CC[C@H]1[C@H]2CCc2c1cc...   \n",
       "39303  C[C@H]1O[C@H](C[C@@H]1OP(=O)(OP(=O)(OP(=O)(O)[...   \n",
       "\n",
       "                                        PROTEIN_SEQUENCE  CLF_LABEL  \\\n",
       "0      MMFSGFNADYEASSSRCSSASPAGDSLSYYHSPADSFSSMGSPVNT...        1.0   \n",
       "1      MARRSSFQSCQIISLFTFAVGVNICLGFTAHRIKRAEGWEEGPPTV...        0.0   \n",
       "2      MARRSSFQSCQIISLFTFAVGVNICLGFTAHRIKRAEGWEEGPPTV...        0.0   \n",
       "3      MARRSSFQSCQIISLFTFAVGVNICLGFTAHRIKRAEGWEEGPPTV...        0.0   \n",
       "4      MARRSSFQSCQIISLFTFAVGVNICLGFTAHRIKRAEGWEEGPPTV...        0.0   \n",
       "...                                                  ...        ...   \n",
       "39299  MNTPKEEFQDWPIVRIAAHLPDLIVYGHFSPERPFMDYFDGVLMFV...        1.0   \n",
       "39300  MNTPKEEFQDWPIVRIAAHLPDLIVYGHFSPERPFMDYFDGVLMFV...        0.0   \n",
       "39301  MNTPKEEFQDWPIVRIAAHLPDLIVYGHFSPERPFMDYFDGVLMFV...        0.0   \n",
       "39302  MNTPKEEFQDWPIVRIAAHLPDLIVYGHFSPERPFMDYFDGVLMFV...        0.0   \n",
       "39303  MNTPKEEFQDWPIVRIAAHLPDLIVYGHFSPERPFMDYFDGVLMFV...        1.0   \n",
       "\n",
       "      Data_Source  \n",
       "0         pubchem  \n",
       "1        glx4.1.0  \n",
       "2        glx4.1.0  \n",
       "3        glx4.1.0  \n",
       "4        glx4.1.0  \n",
       "...           ...  \n",
       "39299    glx4.1.0  \n",
       "39300    glx4.1.0  \n",
       "39301    glx4.1.0  \n",
       "39302    glx4.1.0  \n",
       "39303    glx4.1.0  \n",
       "\n",
       "[39304 rows x 6 columns]"
      ],
      "text/html": "<div>\n<style scoped>\n    .dataframe tbody tr th:only-of-type {\n        vertical-align: middle;\n    }\n\n    .dataframe tbody tr th {\n        vertical-align: top;\n    }\n\n    .dataframe thead th {\n        text-align: right;\n    }\n</style>\n<table border=\"1\" class=\"dataframe\">\n  <thead>\n    <tr style=\"text-align: right;\">\n      <th></th>\n      <th>UID</th>\n      <th>UNIPROT_ID</th>\n      <th>COMPOUND_SMILES</th>\n      <th>PROTEIN_SEQUENCE</th>\n      <th>CLF_LABEL</th>\n      <th>Data_Source</th>\n    </tr>\n  </thead>\n  <tbody>\n    <tr>\n      <th>0</th>\n      <td>P01101_COc1cc(/C=C/C(=O)NCCc2c[nH]c3c2cc(O)cc3...</td>\n      <td>P01101</td>\n      <td>COc1cc(/C=C/C(=O)NCCc2c[nH]c3c2cc(O)cc3)ccc1O</td>\n      <td>MMFSGFNADYEASSSRCSSASPAGDSLSYYHSPADSFSSMGSPVNT...</td>\n      <td>1.0</td>\n      <td>pubchem</td>\n    </tr>\n    <tr>\n      <th>1</th>\n      <td>Q13822_BrC1=CC2C(=C(C1O)Br)Oc1c(C2c2ccccc2C(=O...</td>\n      <td>Q13822</td>\n      <td>BrC1=CC2C(=C(C1O)Br)Oc1c(C2c2ccccc2C(=O)O)cc(c...</td>\n      <td>MARRSSFQSCQIISLFTFAVGVNICLGFTAHRIKRAEGWEEGPPTV...</td>\n      <td>0.0</td>\n      <td>glx4.1.0</td>\n    </tr>\n    <tr>\n      <th>2</th>\n      <td>Q13822_CCCCCCC(=O)Nc1ccc(cc1)C(P(=O)(O)O)F</td>\n      <td>Q13822</td>\n      <td>CCCCCCC(=O)Nc1ccc(cc1)C(P(=O)(O)O)F</td>\n      <td>MARRSSFQSCQIISLFTFAVGVNICLGFTAHRIKRAEGWEEGPPTV...</td>\n      <td>0.0</td>\n      <td>glx4.1.0</td>\n    </tr>\n    <tr>\n      <th>3</th>\n      <td>Q13822_CCCCCCC(=O)Nc1ccc(cc1)C(P(=O)(O)O)O</td>\n      <td>Q13822</td>\n      <td>CCCCCCC(=O)Nc1ccc(cc1)C(P(=O)(O)O)O</td>\n      <td>MARRSSFQSCQIISLFTFAVGVNICLGFTAHRIKRAEGWEEGPPTV...</td>\n      <td>0.0</td>\n      <td>glx4.1.0</td>\n    </tr>\n    <tr>\n      <th>4</th>\n      <td>Q13822_CCCCCCC(=O)Nc1ccc(cc1)CP(=O)(O)O</td>\n      <td>Q13822</td>\n      <td>CCCCCCC(=O)Nc1ccc(cc1)CP(=O)(O)O</td>\n      <td>MARRSSFQSCQIISLFTFAVGVNICLGFTAHRIKRAEGWEEGPPTV...</td>\n      <td>0.0</td>\n      <td>glx4.1.0</td>\n    </tr>\n    <tr>\n      <th>...</th>\n      <td>...</td>\n      <td>...</td>\n      <td>...</td>\n      <td>...</td>\n      <td>...</td>\n      <td>...</td>\n    </tr>\n    <tr>\n      <th>39299</th>\n      <td>Q96PN6_C[C@H]1O[C@H](C[C@@H]1OP(=O)(OP(=O)(OP(...</td>\n      <td>Q96PN6</td>\n      <td>C[C@H]1O[C@H](C[C@@H]1OP(=O)(OP(=O)(OP(=O)(O)O...</td>\n      <td>MNTPKEEFQDWPIVRIAAHLPDLIVYGHFSPERPFMDYFDGVLMFV...</td>\n      <td>1.0</td>\n      <td>glx4.1.0</td>\n    </tr>\n    <tr>\n      <th>39300</th>\n      <td>Q96PN6_O=C1CC[C@]2(C(=C1)CC[C@@H]1[C@@H]2CC[C@...</td>\n      <td>Q96PN6</td>\n      <td>O=C1CC[C@]2(C(=C1)CC[C@@H]1[C@@H]2CC[C@]2([C@H...</td>\n      <td>MNTPKEEFQDWPIVRIAAHLPDLIVYGHFSPERPFMDYFDGVLMFV...</td>\n      <td>0.0</td>\n      <td>glx4.1.0</td>\n    </tr>\n    <tr>\n      <th>39301</th>\n      <td>Q96PN6_OC(=O)c1cc2c(cc1S(=O)(=O)O)C1C(C3C2C2(C...</td>\n      <td>Q96PN6</td>\n      <td>OC(=O)c1cc2c(cc1S(=O)(=O)O)C1C(C3C2C2(Cl)C(=C(...</td>\n      <td>MNTPKEEFQDWPIVRIAAHLPDLIVYGHFSPERPFMDYFDGVLMFV...</td>\n      <td>0.0</td>\n      <td>glx4.1.0</td>\n    </tr>\n    <tr>\n      <th>39302</th>\n      <td>Q96PN6_O[C@H]1CC[C@@H]2[C@]1(C)CC[C@H]1[C@H]2C...</td>\n      <td>Q96PN6</td>\n      <td>O[C@H]1CC[C@@H]2[C@]1(C)CC[C@H]1[C@H]2CCc2c1cc...</td>\n      <td>MNTPKEEFQDWPIVRIAAHLPDLIVYGHFSPERPFMDYFDGVLMFV...</td>\n      <td>0.0</td>\n      <td>glx4.1.0</td>\n    </tr>\n    <tr>\n      <th>39303</th>\n      <td>Q96PN6_C[C@H]1O[C@H](C[C@@H]1OP(=O)(OP(=O)(OP(...</td>\n      <td>Q96PN6</td>\n      <td>C[C@H]1O[C@H](C[C@@H]1OP(=O)(OP(=O)(OP(=O)(O)[...</td>\n      <td>MNTPKEEFQDWPIVRIAAHLPDLIVYGHFSPERPFMDYFDGVLMFV...</td>\n      <td>1.0</td>\n      <td>glx4.1.0</td>\n    </tr>\n  </tbody>\n</table>\n<p>39304 rows × 6 columns</p>\n</div>"
     },
     "metadata": {},
     "execution_count": 47
    }
   ],
   "source": []
  },
  {
   "cell_type": "code",
   "execution_count": 51,
   "metadata": {},
   "outputs": [
    {
     "output_type": "execute_result",
     "data": {
      "text/plain": [
       "Index(['CLF_GE_6-5_LABEL', 'CLF_GE_6_LABEL', 'CLF_GE_7_LABEL',\n",
       "       'COMPOUND_RANDOM_10_CLASS', 'COMPOUND_SMILES', 'CPI_ID', 'INCHI_KEY',\n",
       "       'PROTEIN_RANDOM_10_CLASS', 'PROTEIN_SEQUENCE', 'REG_LABEL', 'SOURCE',\n",
       "       'UID', 'UNIPROT_ID'],\n",
       "      dtype='object')"
      ]
     },
     "metadata": {},
     "execution_count": 51
    }
   ],
   "source": [
    "benchmark_df.columns"
   ]
  },
  {
   "cell_type": "code",
   "execution_count": 53,
   "metadata": {},
   "outputs": [
    {
     "output_type": "execute_result",
     "data": {
      "text/plain": [
       "       CLF_GE_6-5_LABEL  CLF_GE_6_LABEL  CLF_GE_7_LABEL  \\\n",
       "0                     0               0               0   \n",
       "1                     0               0               0   \n",
       "2                     0               0               0   \n",
       "3                     0               0               0   \n",
       "4                     0               0               0   \n",
       "...                 ...             ...             ...   \n",
       "18065                 0               0               0   \n",
       "18066                 0               0               0   \n",
       "18067                 0               0               0   \n",
       "18068                 0               0               0   \n",
       "18069                 0               0               0   \n",
       "\n",
       "       COMPOUND_RANDOM_10_CLASS  \\\n",
       "0                           NaN   \n",
       "1                           NaN   \n",
       "2                           NaN   \n",
       "3                           NaN   \n",
       "4                           NaN   \n",
       "...                         ...   \n",
       "18065                       5.0   \n",
       "18066                       3.0   \n",
       "18067                       3.0   \n",
       "18068                       9.0   \n",
       "18069                       9.0   \n",
       "\n",
       "                                         COMPOUND_SMILES  \\\n",
       "0             O[C@@H](CN1CCc2c(C1)cccc2)CNC(=O)Nc1ccccc1   \n",
       "1              O[C@H](CN1CCc2c(C1)cccc2)CNC(=O)Oc1ccccc1   \n",
       "2        OC(CN1CCc2c(C1)cccc2)CNC(=O)c1ccccc1NS(=O)(=O)C   \n",
       "3            OCCCNc1cccc(c1)C(=O)NCC(CN1CCc2c(C1)cccc2)O   \n",
       "4         OC(CN1CCc2c(C1)cccc2)CNC(=O)c1ccccc1S(=O)(=O)N   \n",
       "...                                                  ...   \n",
       "18065                   Nc1ccc(c(c1)S(=O)(=O)O)Nc1ccccc1   \n",
       "18066  ClCCCN1CCc2c1ccc(c2)/C=C/1\\C(=O)NC(=S)N(C1=O)C...   \n",
       "18067   Sc1nc(O)c(c(n1)O)C=c1cc(n(c1=C)c1ccc2c(c1)OCO2)C   \n",
       "18068              C[n+]1ccn(c1)C(=O)N(c1ccccc1)c1ccccc1   \n",
       "18069                       O=C1CC(=Nc2ccccn2)CC(C1)(C)C   \n",
       "\n",
       "                                   CPI_ID                    INCHI_KEY  \\\n",
       "0      JQEBBTKFWRCBRM-GOSISDBHSA-N_O14744  JQEBBTKFWRCBRM-GOSISDBHSA-N   \n",
       "1      ISPNKABZQKKZLU-KRWDZBQOSA-N_O14744  ISPNKABZQKKZLU-KRWDZBQOSA-N   \n",
       "2      ITKVBCUHRRICIL-UHFFFAOYSA-N_O14744  ITKVBCUHRRICIL-UHFFFAOYSA-N   \n",
       "3      VSASZUNSXBCSFN-UHFFFAOYSA-N_O14744  VSASZUNSXBCSFN-UHFFFAOYSA-N   \n",
       "4      LMJASDFXANKVNH-UHFFFAOYSA-N_O14744  LMJASDFXANKVNH-UHFFFAOYSA-N   \n",
       "...                                   ...                          ...   \n",
       "18065                                 NaN                          NaN   \n",
       "18066                                 NaN                          NaN   \n",
       "18067                                 NaN                          NaN   \n",
       "18068                                 NaN                          NaN   \n",
       "18069                                 NaN                          NaN   \n",
       "\n",
       "       PROTEIN_RANDOM_10_CLASS  \\\n",
       "0                          NaN   \n",
       "1                          NaN   \n",
       "2                          NaN   \n",
       "3                          NaN   \n",
       "4                          NaN   \n",
       "...                        ...   \n",
       "18065                      3.0   \n",
       "18066                      3.0   \n",
       "18067                      3.0   \n",
       "18068                      3.0   \n",
       "18069                      3.0   \n",
       "\n",
       "                                        PROTEIN_SEQUENCE  REG_LABEL  \\\n",
       "0      MAAMAVGGAGGSRVSSGRDLNCVPEIADTLGAVAKQGFDFLCMPVF...    5.25960   \n",
       "1      MAAMAVGGAGGSRVSSGRDLNCVPEIADTLGAVAKQGFDFLCMPVF...    5.25960   \n",
       "2      MAAMAVGGAGGSRVSSGRDLNCVPEIADTLGAVAKQGFDFLCMPVF...    5.25960   \n",
       "3      MAAMAVGGAGGSRVSSGRDLNCVPEIADTLGAVAKQGFDFLCMPVF...    5.25960   \n",
       "4      MAAMAVGGAGGSRVSSGRDLNCVPEIADTLGAVAKQGFDFLCMPVF...    5.25960   \n",
       "...                                                  ...        ...   \n",
       "18065  MHLVAGDSPGSGPHLPATAFIIPASSATLGLPSSALDVSCFPREPI...    5.57383   \n",
       "18066  MHLVAGDSPGSGPHLPATAFIIPASSATLGLPSSALDVSCFPREPI...    5.37382   \n",
       "18067  MHLVAGDSPGSGPHLPATAFIIPASSATLGLPSSALDVSCFPREPI...    4.67382   \n",
       "18068  MHLVAGDSPGSGPHLPATAFIIPASSATLGLPSSALDVSCFPREPI...    5.90001   \n",
       "18069  MHLVAGDSPGSGPHLPATAFIIPASSATLGLPSSALDVSCFPREPI...    5.70000   \n",
       "\n",
       "            SOURCE                                                UID  \\\n",
       "0              NaN                                                NaN   \n",
       "1              NaN                                                NaN   \n",
       "2              NaN                                                NaN   \n",
       "3              NaN                                                NaN   \n",
       "4              NaN                                                NaN   \n",
       "...            ...                                                ...   \n",
       "18065  ExcapeML_RM            Q9Y468_Nc1ccc(c(c1)S(=O)(=O)O)Nc1ccccc1   \n",
       "18066  ExcapeML_RM  Q9Y468_ClCCCN1CCc2c1ccc(c2)/C=C/1\\C(=O)NC(=S)N...   \n",
       "18067  ExcapeML_RM  Q9Y468_Sc1nc(O)c(c(n1)O)C=c1cc(n(c1=C)c1ccc2c(...   \n",
       "18068  ExcapeML_RM       Q9Y468_C[n+]1ccn(c1)C(=O)N(c1ccccc1)c1ccccc1   \n",
       "18069  ExcapeML_RM                Q9Y468_O=C1CC(=Nc2ccccn2)CC(C1)(C)C   \n",
       "\n",
       "      UNIPROT_ID  \n",
       "0         O14744  \n",
       "1         O14744  \n",
       "2         O14744  \n",
       "3         O14744  \n",
       "4         O14744  \n",
       "...          ...  \n",
       "18065     Q9Y468  \n",
       "18066     Q9Y468  \n",
       "18067     Q9Y468  \n",
       "18068     Q9Y468  \n",
       "18069     Q9Y468  \n",
       "\n",
       "[18070 rows x 13 columns]"
      ],
      "text/html": "<div>\n<style scoped>\n    .dataframe tbody tr th:only-of-type {\n        vertical-align: middle;\n    }\n\n    .dataframe tbody tr th {\n        vertical-align: top;\n    }\n\n    .dataframe thead th {\n        text-align: right;\n    }\n</style>\n<table border=\"1\" class=\"dataframe\">\n  <thead>\n    <tr style=\"text-align: right;\">\n      <th></th>\n      <th>CLF_GE_6-5_LABEL</th>\n      <th>CLF_GE_6_LABEL</th>\n      <th>CLF_GE_7_LABEL</th>\n      <th>COMPOUND_RANDOM_10_CLASS</th>\n      <th>COMPOUND_SMILES</th>\n      <th>CPI_ID</th>\n      <th>INCHI_KEY</th>\n      <th>PROTEIN_RANDOM_10_CLASS</th>\n      <th>PROTEIN_SEQUENCE</th>\n      <th>REG_LABEL</th>\n      <th>SOURCE</th>\n      <th>UID</th>\n      <th>UNIPROT_ID</th>\n    </tr>\n  </thead>\n  <tbody>\n    <tr>\n      <th>0</th>\n      <td>0</td>\n      <td>0</td>\n      <td>0</td>\n      <td>NaN</td>\n      <td>O[C@@H](CN1CCc2c(C1)cccc2)CNC(=O)Nc1ccccc1</td>\n      <td>JQEBBTKFWRCBRM-GOSISDBHSA-N_O14744</td>\n      <td>JQEBBTKFWRCBRM-GOSISDBHSA-N</td>\n      <td>NaN</td>\n      <td>MAAMAVGGAGGSRVSSGRDLNCVPEIADTLGAVAKQGFDFLCMPVF...</td>\n      <td>5.25960</td>\n      <td>NaN</td>\n      <td>NaN</td>\n      <td>O14744</td>\n    </tr>\n    <tr>\n      <th>1</th>\n      <td>0</td>\n      <td>0</td>\n      <td>0</td>\n      <td>NaN</td>\n      <td>O[C@H](CN1CCc2c(C1)cccc2)CNC(=O)Oc1ccccc1</td>\n      <td>ISPNKABZQKKZLU-KRWDZBQOSA-N_O14744</td>\n      <td>ISPNKABZQKKZLU-KRWDZBQOSA-N</td>\n      <td>NaN</td>\n      <td>MAAMAVGGAGGSRVSSGRDLNCVPEIADTLGAVAKQGFDFLCMPVF...</td>\n      <td>5.25960</td>\n      <td>NaN</td>\n      <td>NaN</td>\n      <td>O14744</td>\n    </tr>\n    <tr>\n      <th>2</th>\n      <td>0</td>\n      <td>0</td>\n      <td>0</td>\n      <td>NaN</td>\n      <td>OC(CN1CCc2c(C1)cccc2)CNC(=O)c1ccccc1NS(=O)(=O)C</td>\n      <td>ITKVBCUHRRICIL-UHFFFAOYSA-N_O14744</td>\n      <td>ITKVBCUHRRICIL-UHFFFAOYSA-N</td>\n      <td>NaN</td>\n      <td>MAAMAVGGAGGSRVSSGRDLNCVPEIADTLGAVAKQGFDFLCMPVF...</td>\n      <td>5.25960</td>\n      <td>NaN</td>\n      <td>NaN</td>\n      <td>O14744</td>\n    </tr>\n    <tr>\n      <th>3</th>\n      <td>0</td>\n      <td>0</td>\n      <td>0</td>\n      <td>NaN</td>\n      <td>OCCCNc1cccc(c1)C(=O)NCC(CN1CCc2c(C1)cccc2)O</td>\n      <td>VSASZUNSXBCSFN-UHFFFAOYSA-N_O14744</td>\n      <td>VSASZUNSXBCSFN-UHFFFAOYSA-N</td>\n      <td>NaN</td>\n      <td>MAAMAVGGAGGSRVSSGRDLNCVPEIADTLGAVAKQGFDFLCMPVF...</td>\n      <td>5.25960</td>\n      <td>NaN</td>\n      <td>NaN</td>\n      <td>O14744</td>\n    </tr>\n    <tr>\n      <th>4</th>\n      <td>0</td>\n      <td>0</td>\n      <td>0</td>\n      <td>NaN</td>\n      <td>OC(CN1CCc2c(C1)cccc2)CNC(=O)c1ccccc1S(=O)(=O)N</td>\n      <td>LMJASDFXANKVNH-UHFFFAOYSA-N_O14744</td>\n      <td>LMJASDFXANKVNH-UHFFFAOYSA-N</td>\n      <td>NaN</td>\n      <td>MAAMAVGGAGGSRVSSGRDLNCVPEIADTLGAVAKQGFDFLCMPVF...</td>\n      <td>5.25960</td>\n      <td>NaN</td>\n      <td>NaN</td>\n      <td>O14744</td>\n    </tr>\n    <tr>\n      <th>...</th>\n      <td>...</td>\n      <td>...</td>\n      <td>...</td>\n      <td>...</td>\n      <td>...</td>\n      <td>...</td>\n      <td>...</td>\n      <td>...</td>\n      <td>...</td>\n      <td>...</td>\n      <td>...</td>\n      <td>...</td>\n      <td>...</td>\n    </tr>\n    <tr>\n      <th>18065</th>\n      <td>0</td>\n      <td>0</td>\n      <td>0</td>\n      <td>5.0</td>\n      <td>Nc1ccc(c(c1)S(=O)(=O)O)Nc1ccccc1</td>\n      <td>NaN</td>\n      <td>NaN</td>\n      <td>3.0</td>\n      <td>MHLVAGDSPGSGPHLPATAFIIPASSATLGLPSSALDVSCFPREPI...</td>\n      <td>5.57383</td>\n      <td>ExcapeML_RM</td>\n      <td>Q9Y468_Nc1ccc(c(c1)S(=O)(=O)O)Nc1ccccc1</td>\n      <td>Q9Y468</td>\n    </tr>\n    <tr>\n      <th>18066</th>\n      <td>0</td>\n      <td>0</td>\n      <td>0</td>\n      <td>3.0</td>\n      <td>ClCCCN1CCc2c1ccc(c2)/C=C/1\\C(=O)NC(=S)N(C1=O)C...</td>\n      <td>NaN</td>\n      <td>NaN</td>\n      <td>3.0</td>\n      <td>MHLVAGDSPGSGPHLPATAFIIPASSATLGLPSSALDVSCFPREPI...</td>\n      <td>5.37382</td>\n      <td>ExcapeML_RM</td>\n      <td>Q9Y468_ClCCCN1CCc2c1ccc(c2)/C=C/1\\C(=O)NC(=S)N...</td>\n      <td>Q9Y468</td>\n    </tr>\n    <tr>\n      <th>18067</th>\n      <td>0</td>\n      <td>0</td>\n      <td>0</td>\n      <td>3.0</td>\n      <td>Sc1nc(O)c(c(n1)O)C=c1cc(n(c1=C)c1ccc2c(c1)OCO2)C</td>\n      <td>NaN</td>\n      <td>NaN</td>\n      <td>3.0</td>\n      <td>MHLVAGDSPGSGPHLPATAFIIPASSATLGLPSSALDVSCFPREPI...</td>\n      <td>4.67382</td>\n      <td>ExcapeML_RM</td>\n      <td>Q9Y468_Sc1nc(O)c(c(n1)O)C=c1cc(n(c1=C)c1ccc2c(...</td>\n      <td>Q9Y468</td>\n    </tr>\n    <tr>\n      <th>18068</th>\n      <td>0</td>\n      <td>0</td>\n      <td>0</td>\n      <td>9.0</td>\n      <td>C[n+]1ccn(c1)C(=O)N(c1ccccc1)c1ccccc1</td>\n      <td>NaN</td>\n      <td>NaN</td>\n      <td>3.0</td>\n      <td>MHLVAGDSPGSGPHLPATAFIIPASSATLGLPSSALDVSCFPREPI...</td>\n      <td>5.90001</td>\n      <td>ExcapeML_RM</td>\n      <td>Q9Y468_C[n+]1ccn(c1)C(=O)N(c1ccccc1)c1ccccc1</td>\n      <td>Q9Y468</td>\n    </tr>\n    <tr>\n      <th>18069</th>\n      <td>0</td>\n      <td>0</td>\n      <td>0</td>\n      <td>9.0</td>\n      <td>O=C1CC(=Nc2ccccn2)CC(C1)(C)C</td>\n      <td>NaN</td>\n      <td>NaN</td>\n      <td>3.0</td>\n      <td>MHLVAGDSPGSGPHLPATAFIIPASSATLGLPSSALDVSCFPREPI...</td>\n      <td>5.70000</td>\n      <td>ExcapeML_RM</td>\n      <td>Q9Y468_O=C1CC(=Nc2ccccn2)CC(C1)(C)C</td>\n      <td>Q9Y468</td>\n    </tr>\n  </tbody>\n</table>\n<p>18070 rows × 13 columns</p>\n</div>"
     },
     "metadata": {},
     "execution_count": 53
    }
   ],
   "source": [
    "benchmark_df"
   ]
  },
  {
   "cell_type": "code",
   "execution_count": 77,
   "metadata": {},
   "outputs": [],
   "source": [
    "bm_sqs_list = list(set(list(benchmark_df['PROTEIN_SEQUENCE'].values)))"
   ]
  },
  {
   "cell_type": "code",
   "execution_count": 58,
   "metadata": {},
   "outputs": [],
   "source": [
    "sqs_values=list(subdf['PROTEIN_SEQUENCE'].values)\n",
    "smiles_values = list(subdf['COMPOUND_SMILES'].values)"
   ]
  },
  {
   "cell_type": "code",
   "execution_count": 68,
   "metadata": {},
   "outputs": [],
   "source": [
    "l1 = [1,2,3]"
   ]
  },
  {
   "cell_type": "code",
   "execution_count": 79,
   "metadata": {},
   "outputs": [
    {
     "output_type": "execute_result",
     "data": {
      "text/plain": [
       "176"
      ]
     },
     "metadata": {},
     "execution_count": 79
    }
   ],
   "source": [
    "len(bm_sqs_list)"
   ]
  },
  {
   "cell_type": "code",
   "execution_count": 91,
   "metadata": {},
   "outputs": [],
   "source": [
    "temp = subdf[subdf['PROTEIN_SEQUENCE'].isin(bm_sqs_list)]\n",
    "\n",
    "temp_sqs_list = list(set(list(temp['PROTEIN_SEQUENCE'].values)))\n",
    "\n",
    "#print(len(temp_sqs_list))\n",
    "\n",
    "drop_df_all = pd.DataFrame(columns=temp.columns)\n",
    "\n",
    "for sqs in temp_sqs_list:\n",
    "\n",
    "    target = temp[temp['PROTEIN_SEQUENCE']==sqs]\n",
    "\n",
    "    ref = benchmark_df[benchmark_df['PROTEIN_SEQUENCE']==sqs]\n",
    "\n",
    "    drop_df = target[target['COMPOUND_SMILES'].isin(list(ref['COMPOUND_SMILES'].values))]\n",
    "\n",
    "    drop_df_all = drop_df_all.append(drop_df)\n",
    "\n",
    "    #break"
   ]
  },
  {
   "cell_type": "code",
   "execution_count": 102,
   "metadata": {},
   "outputs": [
    {
     "output_type": "execute_result",
     "data": {
      "text/plain": [
       "                                                     UID UNIPROT_ID  \\\n",
       "0      P01101_COc1cc(/C=C/C(=O)NCCc2c[nH]c3c2cc(O)cc3...     P01101   \n",
       "1      Q13822_BrC1=CC2C(=C(C1O)Br)Oc1c(C2c2ccccc2C(=O...     Q13822   \n",
       "2             Q13822_CCCCCCC(=O)Nc1ccc(cc1)C(P(=O)(O)O)F     Q13822   \n",
       "3             Q13822_CCCCCCC(=O)Nc1ccc(cc1)C(P(=O)(O)O)O     Q13822   \n",
       "4                Q13822_CCCCCCC(=O)Nc1ccc(cc1)CP(=O)(O)O     Q13822   \n",
       "...                                                  ...        ...   \n",
       "78603  Q96PN6_C[C@H]1O[C@H](C[C@@H]1OP(=O)(OP(=O)(OP(...     Q96PN6   \n",
       "78604  Q96PN6_O=C1CC[C@]2(C(=C1)CC[C@@H]1[C@@H]2CC[C@...     Q96PN6   \n",
       "78605  Q96PN6_OC(=O)c1cc2c(cc1S(=O)(=O)O)C1C(C3C2C2(C...     Q96PN6   \n",
       "78606  Q96PN6_O[C@H]1CC[C@@H]2[C@]1(C)CC[C@H]1[C@H]2C...     Q96PN6   \n",
       "78607  Q96PN6_C[C@H]1O[C@H](C[C@@H]1OP(=O)(OP(=O)(OP(...     Q96PN6   \n",
       "\n",
       "                                         COMPOUND_SMILES  \\\n",
       "0          COc1cc(/C=C/C(=O)NCCc2c[nH]c3c2cc(O)cc3)ccc1O   \n",
       "1      BrC1=CC2C(=C(C1O)Br)Oc1c(C2c2ccccc2C(=O)O)cc(c...   \n",
       "2                    CCCCCCC(=O)Nc1ccc(cc1)C(P(=O)(O)O)F   \n",
       "3                    CCCCCCC(=O)Nc1ccc(cc1)C(P(=O)(O)O)O   \n",
       "4                       CCCCCCC(=O)Nc1ccc(cc1)CP(=O)(O)O   \n",
       "...                                                  ...   \n",
       "78603  C[C@H]1O[C@H](C[C@@H]1OP(=O)(OP(=O)(OP(=O)(O)O...   \n",
       "78604  O=C1CC[C@]2(C(=C1)CC[C@@H]1[C@@H]2CC[C@]2([C@H...   \n",
       "78605  OC(=O)c1cc2c(cc1S(=O)(=O)O)C1C(C3C2C2(Cl)C(=C(...   \n",
       "78606  O[C@H]1CC[C@@H]2[C@]1(C)CC[C@H]1[C@H]2CCc2c1cc...   \n",
       "78607  C[C@H]1O[C@H](C[C@@H]1OP(=O)(OP(=O)(OP(=O)(O)[...   \n",
       "\n",
       "                                        PROTEIN_SEQUENCE  CLF_LABEL  \\\n",
       "0      MMFSGFNADYEASSSRCSSASPAGDSLSYYHSPADSFSSMGSPVNT...        1.0   \n",
       "1      MARRSSFQSCQIISLFTFAVGVNICLGFTAHRIKRAEGWEEGPPTV...        0.0   \n",
       "2      MARRSSFQSCQIISLFTFAVGVNICLGFTAHRIKRAEGWEEGPPTV...        0.0   \n",
       "3      MARRSSFQSCQIISLFTFAVGVNICLGFTAHRIKRAEGWEEGPPTV...        0.0   \n",
       "4      MARRSSFQSCQIISLFTFAVGVNICLGFTAHRIKRAEGWEEGPPTV...        0.0   \n",
       "...                                                  ...        ...   \n",
       "78603  MNTPKEEFQDWPIVRIAAHLPDLIVYGHFSPERPFMDYFDGVLMFV...        1.0   \n",
       "78604  MNTPKEEFQDWPIVRIAAHLPDLIVYGHFSPERPFMDYFDGVLMFV...        0.0   \n",
       "78605  MNTPKEEFQDWPIVRIAAHLPDLIVYGHFSPERPFMDYFDGVLMFV...        0.0   \n",
       "78606  MNTPKEEFQDWPIVRIAAHLPDLIVYGHFSPERPFMDYFDGVLMFV...        0.0   \n",
       "78607  MNTPKEEFQDWPIVRIAAHLPDLIVYGHFSPERPFMDYFDGVLMFV...        1.0   \n",
       "\n",
       "      Data_Source  \n",
       "0         pubchem  \n",
       "1        glx4.1.0  \n",
       "2        glx4.1.0  \n",
       "3        glx4.1.0  \n",
       "4        glx4.1.0  \n",
       "...           ...  \n",
       "78603    glx4.1.0  \n",
       "78604    glx4.1.0  \n",
       "78605    glx4.1.0  \n",
       "78606    glx4.1.0  \n",
       "78607    glx4.1.0  \n",
       "\n",
       "[78541 rows x 6 columns]"
      ],
      "text/html": "<div>\n<style scoped>\n    .dataframe tbody tr th:only-of-type {\n        vertical-align: middle;\n    }\n\n    .dataframe tbody tr th {\n        vertical-align: top;\n    }\n\n    .dataframe thead th {\n        text-align: right;\n    }\n</style>\n<table border=\"1\" class=\"dataframe\">\n  <thead>\n    <tr style=\"text-align: right;\">\n      <th></th>\n      <th>UID</th>\n      <th>UNIPROT_ID</th>\n      <th>COMPOUND_SMILES</th>\n      <th>PROTEIN_SEQUENCE</th>\n      <th>CLF_LABEL</th>\n      <th>Data_Source</th>\n    </tr>\n  </thead>\n  <tbody>\n    <tr>\n      <th>0</th>\n      <td>P01101_COc1cc(/C=C/C(=O)NCCc2c[nH]c3c2cc(O)cc3...</td>\n      <td>P01101</td>\n      <td>COc1cc(/C=C/C(=O)NCCc2c[nH]c3c2cc(O)cc3)ccc1O</td>\n      <td>MMFSGFNADYEASSSRCSSASPAGDSLSYYHSPADSFSSMGSPVNT...</td>\n      <td>1.0</td>\n      <td>pubchem</td>\n    </tr>\n    <tr>\n      <th>1</th>\n      <td>Q13822_BrC1=CC2C(=C(C1O)Br)Oc1c(C2c2ccccc2C(=O...</td>\n      <td>Q13822</td>\n      <td>BrC1=CC2C(=C(C1O)Br)Oc1c(C2c2ccccc2C(=O)O)cc(c...</td>\n      <td>MARRSSFQSCQIISLFTFAVGVNICLGFTAHRIKRAEGWEEGPPTV...</td>\n      <td>0.0</td>\n      <td>glx4.1.0</td>\n    </tr>\n    <tr>\n      <th>2</th>\n      <td>Q13822_CCCCCCC(=O)Nc1ccc(cc1)C(P(=O)(O)O)F</td>\n      <td>Q13822</td>\n      <td>CCCCCCC(=O)Nc1ccc(cc1)C(P(=O)(O)O)F</td>\n      <td>MARRSSFQSCQIISLFTFAVGVNICLGFTAHRIKRAEGWEEGPPTV...</td>\n      <td>0.0</td>\n      <td>glx4.1.0</td>\n    </tr>\n    <tr>\n      <th>3</th>\n      <td>Q13822_CCCCCCC(=O)Nc1ccc(cc1)C(P(=O)(O)O)O</td>\n      <td>Q13822</td>\n      <td>CCCCCCC(=O)Nc1ccc(cc1)C(P(=O)(O)O)O</td>\n      <td>MARRSSFQSCQIISLFTFAVGVNICLGFTAHRIKRAEGWEEGPPTV...</td>\n      <td>0.0</td>\n      <td>glx4.1.0</td>\n    </tr>\n    <tr>\n      <th>4</th>\n      <td>Q13822_CCCCCCC(=O)Nc1ccc(cc1)CP(=O)(O)O</td>\n      <td>Q13822</td>\n      <td>CCCCCCC(=O)Nc1ccc(cc1)CP(=O)(O)O</td>\n      <td>MARRSSFQSCQIISLFTFAVGVNICLGFTAHRIKRAEGWEEGPPTV...</td>\n      <td>0.0</td>\n      <td>glx4.1.0</td>\n    </tr>\n    <tr>\n      <th>...</th>\n      <td>...</td>\n      <td>...</td>\n      <td>...</td>\n      <td>...</td>\n      <td>...</td>\n      <td>...</td>\n    </tr>\n    <tr>\n      <th>78603</th>\n      <td>Q96PN6_C[C@H]1O[C@H](C[C@@H]1OP(=O)(OP(=O)(OP(...</td>\n      <td>Q96PN6</td>\n      <td>C[C@H]1O[C@H](C[C@@H]1OP(=O)(OP(=O)(OP(=O)(O)O...</td>\n      <td>MNTPKEEFQDWPIVRIAAHLPDLIVYGHFSPERPFMDYFDGVLMFV...</td>\n      <td>1.0</td>\n      <td>glx4.1.0</td>\n    </tr>\n    <tr>\n      <th>78604</th>\n      <td>Q96PN6_O=C1CC[C@]2(C(=C1)CC[C@@H]1[C@@H]2CC[C@...</td>\n      <td>Q96PN6</td>\n      <td>O=C1CC[C@]2(C(=C1)CC[C@@H]1[C@@H]2CC[C@]2([C@H...</td>\n      <td>MNTPKEEFQDWPIVRIAAHLPDLIVYGHFSPERPFMDYFDGVLMFV...</td>\n      <td>0.0</td>\n      <td>glx4.1.0</td>\n    </tr>\n    <tr>\n      <th>78605</th>\n      <td>Q96PN6_OC(=O)c1cc2c(cc1S(=O)(=O)O)C1C(C3C2C2(C...</td>\n      <td>Q96PN6</td>\n      <td>OC(=O)c1cc2c(cc1S(=O)(=O)O)C1C(C3C2C2(Cl)C(=C(...</td>\n      <td>MNTPKEEFQDWPIVRIAAHLPDLIVYGHFSPERPFMDYFDGVLMFV...</td>\n      <td>0.0</td>\n      <td>glx4.1.0</td>\n    </tr>\n    <tr>\n      <th>78606</th>\n      <td>Q96PN6_O[C@H]1CC[C@@H]2[C@]1(C)CC[C@H]1[C@H]2C...</td>\n      <td>Q96PN6</td>\n      <td>O[C@H]1CC[C@@H]2[C@]1(C)CC[C@H]1[C@H]2CCc2c1cc...</td>\n      <td>MNTPKEEFQDWPIVRIAAHLPDLIVYGHFSPERPFMDYFDGVLMFV...</td>\n      <td>0.0</td>\n      <td>glx4.1.0</td>\n    </tr>\n    <tr>\n      <th>78607</th>\n      <td>Q96PN6_C[C@H]1O[C@H](C[C@@H]1OP(=O)(OP(=O)(OP(...</td>\n      <td>Q96PN6</td>\n      <td>C[C@H]1O[C@H](C[C@@H]1OP(=O)(OP(=O)(OP(=O)(O)[...</td>\n      <td>MNTPKEEFQDWPIVRIAAHLPDLIVYGHFSPERPFMDYFDGVLMFV...</td>\n      <td>1.0</td>\n      <td>glx4.1.0</td>\n    </tr>\n  </tbody>\n</table>\n<p>78541 rows × 6 columns</p>\n</div>"
     },
     "metadata": {},
     "execution_count": 102
    }
   ],
   "source": [
    "output_df_index = list(output_df.index)\n",
    "aa = list(drop_df_all.index)\n",
    "#filted = output_df_index.remove(aa)\n",
    "\n",
    "output_df.drop(index=aa)"
   ]
  },
  {
   "cell_type": "code",
   "execution_count": 2,
   "metadata": {},
   "outputs": [],
   "source": [
    "output_df=pd.read_csv(OUTPUT_ROOT+'Glx_Pubchem_Uniprot_Classification_Data_DROP_1_7_rmv_dup.csv')"
   ]
  },
  {
   "cell_type": "code",
   "execution_count": 4,
   "metadata": {},
   "outputs": [],
   "source": [
    "PKL_ROOT = '/gxr/tongyuang/utils/total_protein_embedding.pkl'\n",
    "\n",
    "import pickle\n",
    "\n",
    "myfile = open(PKL_ROOT,'rb')\n",
    "emb = pickle.load(myfile)"
   ]
  },
  {
   "cell_type": "code",
   "execution_count": 7,
   "metadata": {},
   "outputs": [],
   "source": [
    "dict_key_list = list(emb.keys())"
   ]
  },
  {
   "cell_type": "code",
   "execution_count": 8,
   "metadata": {},
   "outputs": [],
   "source": [
    "sqs_list = list(set(list(output_df['PROTEIN_SEQUENCE'].values)))"
   ]
  },
  {
   "cell_type": "code",
   "execution_count": 9,
   "metadata": {},
   "outputs": [
    {
     "output_type": "execute_result",
     "data": {
      "text/plain": [
       "7567"
      ]
     },
     "metadata": {},
     "execution_count": 9
    }
   ],
   "source": [
    "len(sqs_list)"
   ]
  },
  {
   "cell_type": "code",
   "execution_count": 10,
   "metadata": {},
   "outputs": [
    {
     "output_type": "execute_result",
     "data": {
      "text/plain": [
       "7664"
      ]
     },
     "metadata": {},
     "execution_count": 10
    }
   ],
   "source": [
    "len(dict_key_list)"
   ]
  },
  {
   "cell_type": "code",
   "execution_count": 11,
   "metadata": {},
   "outputs": [
    {
     "output_type": "stream",
     "name": "stdout",
     "text": [
      "!\n",
      "!\n",
      "!\n",
      "!\n",
      "!\n"
     ]
    }
   ],
   "source": [
    "miss_list = []\n",
    "for sqs in sqs_list:\n",
    "    if sqs in dict_key_list:\n",
    "        continue\n",
    "    else:\n",
    "        miss_list.append(sqs)\n",
    "        print('!')\n"
   ]
  },
  {
   "cell_type": "code",
   "execution_count": 14,
   "metadata": {},
   "outputs": [
    {
     "output_type": "execute_result",
     "data": {
      "text/plain": [
       "5"
      ]
     },
     "metadata": {},
     "execution_count": 14
    }
   ],
   "source": [
    "len(miss_list)"
   ]
  },
  {
   "cell_type": "code",
   "execution_count": 15,
   "metadata": {},
   "outputs": [
    {
     "output_type": "execute_result",
     "data": {
      "text/plain": [
       "['mehqllccevetirraypdtnllndrvlramlkteetcapsvsyfkcvqkeivpsmrkivatwmlevceeqkceeevfplamnyldrflsleplkksrlqllgatcmfvaskmketipltaeklciytdnsirpeellqmelllvnklkwnlaamtphdfiehflskmpeadenkqtirkhaqtfvalcatdvkfisnppsmvaagsvvaamqglnlgspnnflscyrtthflsrvikcdpdclracqeqieallesslrqaqqnvdpkateeegeveeeaglactptdvrdvdi',\n",
       " 'mesrallavalwfcvetraasvglpgdslhppklstqkdiltilanttlqitcrgqrdldwlwpntprdseervlvtecgdsifcktltvprvvgndtgaykcfyrdtdvssivyvyvqdhrspfiasvsdehgivyitenknktvvipcrgsisnlnvslcarypekrfvpdgnriswdsekgftipsymisyagmvfceakindetyqsimyivlvvgyriydvvlsppheielsageklvlnctartelnvgldfswqfpsskhqhkkivnrdvkslpgtvakmflstltidsvtksdqgeytctaysglmtkknktfvrvhtkpfiafgsgmkslveatvgsqvripvkylsypapdikwyrngrpiesnytmivgdeltimevserdagnytviltnpismekqshmvslvvnvppqigekalispmdsyqygtmqtltctvyanpplhhiqwywqleeacsyrpsqtnpytckewrhvkdfqggnkievtknqyaliegknktvstlviqaayvsalykceainkagrgervisfhvirgpeitvqpatqpteresmsllctadrntfenltwyklgsqatsvhmgesltpvcknldalwklngtvfsnstndilivafqnaslqdqgnyvcsaqdkktkkrhclvkqlvilermapmitgnlenqtttigetievvcptsgnptplitwfkdnetlvedsgivlkdgnrnltirrvrkedgglytcqacnvlgcaraetlfiiegvqektnleviilvgtaviamffwlllvilvrtvkranegelktgylsivmdpdelpldercerlpydaskwefprdrlklgkplgrgafgqvieadafgidktatcktvavkmlkegathsehralmselkilihighhlnvvnllgactkpggplmvivefckfgnlstylrgkrnefvpykskgarfrsgkdyvgelsvdlkrrldsitssqssassgfveekslsdveeeeaseelykdfltlehlicysfqvakgmeflasrkcihrdlaarnillseknvvkicdfglardiykdpdyvrkgdprlplkwmapetifdriytiqsgvwsfgvllweifslgaspypgvkidekfcrrlkegtrmrapdyttpemyqtmldcwhedpnqrpafselvehlgnllqanaqqdgkdyivlpmsetlsmeedsglslptspvscmeeeevcdpkfhydntagishylqnskrksrpvsvktfedipleepevkvipddsqtdsgmvlaseelktledrnklspsfggmmpsksresvasegsnqtsgyqsgyhsddtdttvyssdeagllklvdvaghvdsgttlrsspv',\n",
       " 'MAKAAAIGIDLGTTYSCVGVFQHGKVEIIANDQGNRTTPSYVAFTDTERLIGDAAKNQVA2LNPQNTVFDAKRLIGRKFGDPVVQSDMKHWPFQVINDGDKPKVQVSYKGETKAFYPEEIS3SMVLTKMKEIAEAYLGYPVTNAVITVPAYFNDSQRQATKDAGVIAGLNVLRIINEPTAAA4IAYGLDRTGKGERNVLIFDLGGGTFDVSILTIDDGIFEVKATAGDTHLGGEDFDNRLVNH5FVEEFKRKHKKDISQNKRAVRRLRTACERAKRTLSSSTQASLEIDSLFEGIDFYTSITRA6RFEELCSDLFRSTLEPVEKALRDAKLDKAQIHDLVLVGGSTRIPKVQKLLQDFFNGRDLN7KSINPDEAVAYGAAVQAAILMGDKSENVQDLLLLDVAPLSLGLETAGGVMTALIKRNSTI8PTKQTQIFTTYSDNQPGVLIQVYEGERAMTKDNNLLGRFELSGIPPAPRGVPQIEVTFDI9DANGILNVTATDKSTGKANKITITNDKGRLSKEEIERMVQEAEKYKAEDEVQRERVSAKN10ALESYAFNMKSAVEDEGLKGKISEADKKKVLDKCQEVISWLDANTLAEKDEFEHKRKELE11QVCNPIISGLYQGAGGPGPGGFGAQGPKGGSGSGPTIEEVD12',\n",
       " 'mppktprktaataaaaaaeppapppppppeedpeqdsgpedlplvrlefeeteepdftalcqklkipdhvrerawltwekvssvdgvlggyiqkkkelwgicifiaavdldemsftftelqknieisvhkffnllkeidtstkvdnamsrllkkydvlfalfsklertceliyltqpsssisteinsalvlkvswitfllakgevlqmeddlvisfqlmlcvldyfiklsppmllkepyktavipingsprtprrgqnrsariakqlendtriievlckehecnidevknvyfknfipfmnslglvtsnglpevenlskryeeiylknkdldarlfldhdktlqtdsidsfetqrtprksnldeevnvipphtpvrtvmntiqqlmmilnsasdqpsenlisyfnnctvnpkesilkrvkdigyifkekfakavgqgcveigsqryklgvrlyyrvmesmlkseeerlsiqnfskllndnifhmsllacalevvmatysrstsqnldsgtdlsfpwilnvlnlkafdfykviesfikaegnltremikhlercehrimeslawlsdsplfdlikqskdregptdhlesacplnlplqnnhtaadmylspvrspkkkgsttrvnstanaetqatsafqtqkplkstslslfykkvyrlaylrlntlcerllsehpelehiiwtlfqhtlqneyelmrdrhldqimmcsmygickvknidlkfkiivtaykdlphavqetfkrvlikeeeydsiivfynsvfmqrlktnilqyastrpptlspiphiprspykfpssplripggniyisplkspykiseglptptkmtprsrilvsigesfgtsekfqkinqmvcnsdrvlkrsaegsnppkplkklrfdiegsdeadgskhlpgeskfqqklaemtstrtrmqkqkmndsmdtsnkeek',\n",
       " 'matykvrvatgtdllsgtrdsisltivgtqgeshkqllnhfgrdfatgavgqytvqcpqdlgeliiirlhkeryaffpkdpwycnyvqicapngriyhfpayqwmdgyetlalreatgkttaddslpvllehrkeeirakqdfyhwrvflpglpsyvhipsyrppvrrhrnpnrpewngyipgfpilinfkatkflnlnlrysflktasffvrlgpmalafkvrglldckhswkrlkdirkifpgkksvvseyvaehwaedtffgyqylngvnpglirrctripdkfpvtddmvapflgegtclqaelekgniyladyrimegiptvelsgrkqhhcaplcllhfgpegkmmpiaiqlsqtpgpdcpiflpsdsewdwllaktwvryaefysheaiahllethliaeafclallrnlpmchplyklliphtrytvqinsigravllnegglsakgmslgvegfagvmvralseltydslylpndfvergvqdlpgyyyrddslavwnalekyvteiityyypsdaavegdpelqswvqeifkecllgressgfprclrtvpeliryvtiviytcsakhaavntgqmeftawmpnfpasmrnppiqtkglttletfmdtlpdvkttcitllvlwtlsrepddrrplghfpdihfveeaprrsieafrqrlnqishdirqrnkclpipyyyldpvliensisi']"
      ]
     },
     "metadata": {},
     "execution_count": 15
    }
   ],
   "source": [
    "miss_list"
   ]
  },
  {
   "cell_type": "code",
   "execution_count": 17,
   "metadata": {},
   "outputs": [],
   "source": [
    "for sqs in miss_list:\n",
    "    subdf = output_df[output_df['PROTEIN_SEQUENCE']==sqs]\n",
    "    output_df = output_df.drop(index=list(subdf.index))\n",
    "\n",
    "\n",
    "output_df.to_csv(OUTPUT_ROOT+'Glx_Pubchem_Uniprot_Classification_Data_DROP_1_7_rmv_dup.csv',index=0) "
   ]
  },
  {
   "cell_type": "code",
   "execution_count": 13,
   "metadata": {},
   "outputs": [
    {
     "output_type": "execute_result",
     "data": {
      "text/plain": [
       "7562"
      ]
     },
     "metadata": {},
     "execution_count": 13
    }
   ],
   "source": [
    "len(list(set(list(output_df['PROTEIN_SEQUENCE'].values))))"
   ]
  },
  {
   "cell_type": "code",
   "execution_count": 14,
   "metadata": {},
   "outputs": [
    {
     "output_type": "execute_result",
     "data": {
      "text/plain": [
       "0.32781392059442865"
      ]
     },
     "metadata": {},
     "execution_count": 14
    }
   ],
   "source": [
    "2017260/6153674"
   ]
  },
  {
   "cell_type": "code",
   "execution_count": null,
   "metadata": {},
   "outputs": [],
   "source": []
  }
 ]
}